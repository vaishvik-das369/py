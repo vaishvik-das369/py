{
  "nbformat": 4,
  "nbformat_minor": 0,
  "metadata": {
    "colab": {
      "name": "Getting_Start_NLP.ipynb",
      "provenance": [],
      "authorship_tag": "ABX9TyMsL+YqDmdNUceDtGrkh1gs",
      "include_colab_link": true
    },
    "kernelspec": {
      "name": "python3",
      "display_name": "Python 3"
    }
  },
  "cells": [
    {
      "cell_type": "markdown",
      "metadata": {
        "id": "view-in-github",
        "colab_type": "text"
      },
      "source": [
        "<a href=\"https://colab.research.google.com/github/vaishvik-das369/py/blob/master/Getting_Start_NLP.ipynb\" target=\"_parent\"><img src=\"https://colab.research.google.com/assets/colab-badge.svg\" alt=\"Open In Colab\"/></a>"
      ]
    },
    {
      "cell_type": "code",
      "metadata": {
        "colab": {
          "base_uri": "https://localhost:8080/"
        },
        "id": "xci4uTZ3ewMA",
        "outputId": "070757dd-3fb8-46a6-b65a-69f79bda5cb6"
      },
      "source": [
        "import nltk\r\n",
        "nltk.download('punkt')"
      ],
      "execution_count": 2,
      "outputs": [
        {
          "output_type": "stream",
          "text": [
            "[nltk_data] Downloading package punkt to /root/nltk_data...\n",
            "[nltk_data]   Unzipping tokenizers/punkt.zip.\n"
          ],
          "name": "stdout"
        },
        {
          "output_type": "execute_result",
          "data": {
            "text/plain": [
              "True"
            ]
          },
          "metadata": {
            "tags": []
          },
          "execution_count": 2
        }
      ]
    },
    {
      "cell_type": "code",
      "metadata": {
        "colab": {
          "base_uri": "https://localhost:8080/"
        },
        "id": "zk5KPKK8hkFZ",
        "outputId": "7dd2e2ba-7ec9-4c52-bf27-07c28f41f23d"
      },
      "source": [
        "import spacy\r\n",
        "nlp = spacy.load(\"en_core_web_sm\")\r\n",
        "nlp"
      ],
      "execution_count": 4,
      "outputs": [
        {
          "output_type": "execute_result",
          "data": {
            "text/plain": [
              "<spacy.lang.en.English at 0x7ff3418c05d0>"
            ]
          },
          "metadata": {
            "tags": []
          },
          "execution_count": 4
        }
      ]
    },
    {
      "cell_type": "code",
      "metadata": {
        "colab": {
          "base_uri": "https://localhost:8080/"
        },
        "id": "YbE2SvrZjUTm",
        "outputId": "0806094d-af64-4e66-d93a-4c28a2365bcc"
      },
      "source": [
        "my_text = \"\"\"The economic situation of the country is on edge , as the stock \r\n",
        "market crashed causing loss of millions. Citizens who had their main investment \r\n",
        "in the share-market are facing a great loss. Many companies might lay off \r\n",
        "thousands of people to reduce labor cost\"\"\"\r\n",
        "\r\n",
        "my_doc = nlp(my_text)\r\n",
        "type(my_doc)"
      ],
      "execution_count": 18,
      "outputs": [
        {
          "output_type": "execute_result",
          "data": {
            "text/plain": [
              "spacy.tokens.doc.Doc"
            ]
          },
          "metadata": {
            "tags": []
          },
          "execution_count": 18
        }
      ]
    },
    {
      "cell_type": "code",
      "metadata": {
        "colab": {
          "base_uri": "https://localhost:8080/"
        },
        "id": "vqAxnViqoIm1",
        "outputId": "8f6c6804-950f-43d2-909f-fa2ea925c3b5"
      },
      "source": [
        "for token in my_doc:\r\n",
        "  print(token.text)"
      ],
      "execution_count": 19,
      "outputs": [
        {
          "output_type": "stream",
          "text": [
            "The\n",
            "economic\n",
            "situation\n",
            "of\n",
            "the\n",
            "country\n",
            "is\n",
            "on\n",
            "edge\n",
            ",\n",
            "as\n",
            "the\n",
            "stock\n",
            "\n",
            "\n",
            "market\n",
            "crashed\n",
            "causing\n",
            "loss\n",
            "of\n",
            "millions\n",
            ".\n",
            "Citizens\n",
            "who\n",
            "had\n",
            "their\n",
            "main\n",
            "investment\n",
            "\n",
            "\n",
            "in\n",
            "the\n",
            "share\n",
            "-\n",
            "market\n",
            "are\n",
            "facing\n",
            "a\n",
            "great\n",
            "loss\n",
            ".\n",
            "Many\n",
            "companies\n",
            "might\n",
            "lay\n",
            "off\n",
            "\n",
            "\n",
            "thousands\n",
            "of\n",
            "people\n",
            "to\n",
            "reduce\n",
            "labor\n",
            "cost\n"
          ],
          "name": "stdout"
        }
      ]
    },
    {
      "cell_type": "code",
      "metadata": {
        "colab": {
          "base_uri": "https://localhost:8080/"
        },
        "id": "ZA0EKc3SqmxU",
        "outputId": "a0f03804-0ce9-4e84-a6c0-5c5522b0df25"
      },
      "source": [
        "for token in my_doc:\r\n",
        "  print(token.text,'--',token.is_stop,'---',token.is_space,'---',token.is_punct)"
      ],
      "execution_count": 20,
      "outputs": [
        {
          "output_type": "stream",
          "text": [
            "The -- True --- False --- False\n",
            "economic -- False --- False --- False\n",
            "situation -- False --- False --- False\n",
            "of -- True --- False --- False\n",
            "the -- True --- False --- False\n",
            "country -- False --- False --- False\n",
            "is -- True --- False --- False\n",
            "on -- True --- False --- False\n",
            "edge -- False --- False --- False\n",
            ", -- False --- False --- True\n",
            "as -- True --- False --- False\n",
            "the -- True --- False --- False\n",
            "stock -- False --- False --- False\n",
            "\n",
            " -- False --- True --- False\n",
            "market -- False --- False --- False\n",
            "crashed -- False --- False --- False\n",
            "causing -- False --- False --- False\n",
            "loss -- False --- False --- False\n",
            "of -- True --- False --- False\n",
            "millions -- False --- False --- False\n",
            ". -- False --- False --- True\n",
            "Citizens -- False --- False --- False\n",
            "who -- True --- False --- False\n",
            "had -- True --- False --- False\n",
            "their -- True --- False --- False\n",
            "main -- False --- False --- False\n",
            "investment -- False --- False --- False\n",
            "\n",
            " -- False --- True --- False\n",
            "in -- True --- False --- False\n",
            "the -- True --- False --- False\n",
            "share -- False --- False --- False\n",
            "- -- False --- False --- True\n",
            "market -- False --- False --- False\n",
            "are -- True --- False --- False\n",
            "facing -- False --- False --- False\n",
            "a -- True --- False --- False\n",
            "great -- False --- False --- False\n",
            "loss -- False --- False --- False\n",
            ". -- False --- False --- True\n",
            "Many -- True --- False --- False\n",
            "companies -- False --- False --- False\n",
            "might -- True --- False --- False\n",
            "lay -- False --- False --- False\n",
            "off -- True --- False --- False\n",
            "\n",
            " -- False --- True --- False\n",
            "thousands -- False --- False --- False\n",
            "of -- True --- False --- False\n",
            "people -- False --- False --- False\n",
            "to -- True --- False --- False\n",
            "reduce -- False --- False --- False\n",
            "labor -- False --- False --- False\n",
            "cost -- False --- False --- False\n"
          ],
          "name": "stdout"
        }
      ]
    },
    {
      "cell_type": "code",
      "metadata": {
        "colab": {
          "base_uri": "https://localhost:8080/"
        },
        "id": "uunADJQbrv5Z",
        "outputId": "cca655b3-8257-4f04-d714-c3a25c7ee633"
      },
      "source": [
        "my_doc_cleaned = [token for token in my_doc if not token.is_stop and not token.is_punct]\r\n",
        "for token in my_doc_cleaned:\r\n",
        "  print(token.text)"
      ],
      "execution_count": 21,
      "outputs": [
        {
          "output_type": "stream",
          "text": [
            "economic\n",
            "situation\n",
            "country\n",
            "edge\n",
            "stock\n",
            "\n",
            "\n",
            "market\n",
            "crashed\n",
            "causing\n",
            "loss\n",
            "millions\n",
            "Citizens\n",
            "main\n",
            "investment\n",
            "\n",
            "\n",
            "share\n",
            "market\n",
            "facing\n",
            "great\n",
            "loss\n",
            "companies\n",
            "lay\n",
            "\n",
            "\n",
            "thousands\n",
            "people\n",
            "reduce\n",
            "labor\n",
            "cost\n"
          ],
          "name": "stdout"
        }
      ]
    },
    {
      "cell_type": "code",
      "metadata": {
        "colab": {
          "base_uri": "https://localhost:8080/"
        },
        "id": "Hzx85ORZOxKl",
        "outputId": "0867c14b-4277-4bac-83fc-7f0a946b1b51"
      },
      "source": [
        "import spacy\r\n",
        "text = \"i am doing code for NLP\"\r\n",
        "nlp = spacy.load(\"en_core_web_sm\")\r\n",
        "doc = nlp(text)\r\n",
        "for token in doc:\r\n",
        "  print(token.lemma_)"
      ],
      "execution_count": 4,
      "outputs": [
        {
          "output_type": "stream",
          "text": [
            "i\n",
            "be\n",
            "do\n",
            "code\n",
            "for\n",
            "NLP\n"
          ],
          "name": "stdout"
        }
      ]
    },
    {
      "cell_type": "code",
      "metadata": {
        "colab": {
          "base_uri": "https://localhost:8080/"
        },
        "id": "rFbtf_WvVmdE",
        "outputId": "f72f07ed-c480-4766-f4ed-e8a59ce69fcf"
      },
      "source": [
        "import spacy\r\n",
        "nlp = spacy.load(\"en_core_web_sm\")\r\n",
        "text = \"hello my name is vaishvik patel\"\r\n",
        "doc = nlp(text)\r\n",
        "word_hash = nlp.vocab.strings[\"vaishvik\"]\r\n",
        "print(word_hash)\r\n",
        "\r\n",
        "word_string = nlp.vocab.strings[word_hash]\r\n",
        "print(word_string)"
      ],
      "execution_count": 10,
      "outputs": [
        {
          "output_type": "stream",
          "text": [
            "17902504673793290007\n",
            "vaishvik\n"
          ],
          "name": "stdout"
        }
      ]
    },
    {
      "cell_type": "markdown",
      "metadata": {
        "id": "HLb6jG9hWixm"
      },
      "source": [
        "# Create two different doc with a common word"
      ]
    },
    {
      "cell_type": "code",
      "metadata": {
        "colab": {
          "base_uri": "https://localhost:8080/"
        },
        "id": "JTHtlw3cWkU5",
        "outputId": "8c506968-83db-4ce8-d324-75c0390a5716"
      },
      "source": [
        "import spacy\r\n",
        "nlp = spacy.load(\"en_core_web_sm\")\r\n",
        "doc1 = nlp(\"hello bro newton baba\")\r\n",
        "doc2 = nlp(\"hi sister madam cury and bro newton\")\r\n",
        "\r\n",
        "word_hash_doc1 = nlp.vocab.strings[\"newton\"]\r\n",
        "print(word_hash_doc1)\r\n",
        "\r\n",
        "word_hash_doc2 = nlp.vocab.strings[\"newton\"]\r\n",
        "print(word_hash_doc2)"
      ],
      "execution_count": 13,
      "outputs": [
        {
          "output_type": "stream",
          "text": [
            "3458820489908916133\n",
            "3458820489908916133\n"
          ],
          "name": "stdout"
        }
      ]
    }
  ]
}